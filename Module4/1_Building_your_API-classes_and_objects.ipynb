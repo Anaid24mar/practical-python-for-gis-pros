{
 "cells": [
  {
   "cell_type": "markdown",
   "metadata": {},
   "source": [
    "** Building your own API (Application Program Interface). **\n",
    "\n",
    "Why building your own API?\n",
    "\n",
    "API is just a way to access your code.\n",
    "\n",
    "Building API is really about organising your code\n",
    "into logical/functional parts that work together.\n",
    "\n",
    "Well designed API will help you manage your code\n",
    "in the future.\n",
    "\n",
    "We've already know how to organise code into a function.\n",
    "\n",
    "And there are two other mechanisms that will help you\n",
    "build your own API: classes, modules and packages.\n",
    "\n",
    "Here we will cover classes and later on \n",
    "modules and packages.\n",
    "\n",
    "** Class **\n",
    "\n",
    "You can think about the class as a template or a \n",
    "bluprint for a certain type of objects.\n",
    "\n",
    "Class is a conatiner where you put functions (called\n",
    "methods inside a class) and variables (called attributes in\n",
    "class) to implement a specific functionality.\n",
    "\n",
    "\n"
   ]
  },
  {
   "cell_type": "markdown",
   "metadata": {},
   "source": [
    "The simplest way to create a class with no functions (methods) and variables (attributes):"
   ]
  },
  {
   "cell_type": "code",
   "execution_count": null,
   "metadata": {},
   "outputs": [],
   "source": [
    "class myGISapp:\n",
    "    pass"
   ]
  },
  {
   "cell_type": "markdown",
   "metadata": {},
   "source": [
    "Once you create a class you can create different objects based on this class"
   ]
  },
  {
   "cell_type": "code",
   "execution_count": null,
   "metadata": {},
   "outputs": [],
   "source": [
    "myapp = myGISapp()\n",
    "myapp"
   ]
  },
  {
   "cell_type": "code",
   "execution_count": null,
   "metadata": {},
   "outputs": [],
   "source": [
    "secondApp = myGISapp()\n",
    "secondApp"
   ]
  },
  {
   "cell_type": "markdown",
   "metadata": {},
   "source": [
    "Both myapp and secondApp are two separate objects, when you change one the other won't be changes even though the same class have been used to create them. Clasess are just used as a template. "
   ]
  },
  {
   "cell_type": "markdown",
   "metadata": {},
   "source": [
    "** Variables inside classes and objects (attributes) **\n",
    "\n",
    "Let's create a class with attributes (variables) and see how you can change them."
   ]
  },
  {
   "cell_type": "code",
   "execution_count": null,
   "metadata": {},
   "outputs": [],
   "source": [
    "class myVectorData:\n",
    "    def __init__(self):\n",
    "        self.attr='this is a variable inside a class'"
   ]
  },
  {
   "cell_type": "markdown",
   "metadata": {},
   "source": [
    "**__init__** is a special method (function) in our class.\n",
    "It is called every time we create a new object and\n",
    "is used to set up the initial values for our attributes. \n",
    "\n",
    "self is the first attribute in every method in our class.\n",
    "We use it to access attributes and methods inside our class/object.\n",
    "\n",
    "Let's create a new object based on this class:"
   ]
  },
  {
   "cell_type": "code",
   "execution_count": null,
   "metadata": {},
   "outputs": [],
   "source": [
    "mvd=myVectorData()\n",
    "mvd"
   ]
  },
  {
   "cell_type": "markdown",
   "metadata": {},
   "source": [
    "Then, let's read it's attribute:"
   ]
  },
  {
   "cell_type": "code",
   "execution_count": null,
   "metadata": {},
   "outputs": [],
   "source": [
    "mvd.attr"
   ]
  },
  {
   "cell_type": "markdown",
   "metadata": {},
   "source": [
    "You can also change it:"
   ]
  },
  {
   "cell_type": "code",
   "execution_count": null,
   "metadata": {},
   "outputs": [],
   "source": [
    "mvd.attr='hello'\n",
    "mvd.attr"
   ]
  },
  {
   "cell_type": "markdown",
   "metadata": {},
   "source": [
    "You can also pass additional variables to init when you create a new object.\n",
    "\n",
    "The first step to do that is to define new parameters in init, inside a class."
   ]
  },
  {
   "cell_type": "code",
   "execution_count": null,
   "metadata": {},
   "outputs": [],
   "source": [
    "class myVectorData:\n",
    "    def __init__(self, x, y):\n",
    "        self.x=x\n",
    "        self.y=y"
   ]
  },
  {
   "cell_type": "markdown",
   "metadata": {},
   "source": [
    "Here, we've defined two new arguments for __init__ and then used it as values for our attributes.\n",
    "(to define different arguments follow the rules for functions covered in the first module) \n",
    "\n",
    "To pass new values you just used it during the creation of a new object."
   ]
  },
  {
   "cell_type": "code",
   "execution_count": null,
   "metadata": {},
   "outputs": [],
   "source": [
    "mvd=myVectorData(1,2)"
   ]
  },
  {
   "cell_type": "code",
   "execution_count": null,
   "metadata": {},
   "outputs": [],
   "source": [
    "mvd.x"
   ]
  },
  {
   "cell_type": "code",
   "execution_count": null,
   "metadata": {},
   "outputs": [],
   "source": [
    "mvd.y"
   ]
  },
  {
   "cell_type": "markdown",
   "metadata": {},
   "source": [
    "** Functions inside classes and objects (methods) **"
   ]
  },
  {
   "cell_type": "markdown",
   "metadata": {},
   "source": [
    "In the same way we've defined __init__ method we can also define\n",
    "our own methods (functions).\n",
    "\n",
    "Let's see an example:"
   ]
  },
  {
   "cell_type": "code",
   "execution_count": null,
   "metadata": {},
   "outputs": [],
   "source": [
    "class myVectorData:\n",
    "    def __init__(self, x, y):\n",
    "        self.x=x\n",
    "        self.y=y\n",
    "        \n",
    "    def process(self):\n",
    "        return (self.x, self.y)"
   ]
  },
  {
   "cell_type": "markdown",
   "metadata": {},
   "source": [
    "Notice that every time we use an object's attribute (variable) we need to use\n",
    "self. to access it.\n",
    "\n",
    "Let's create a new object with our updated class:"
   ]
  },
  {
   "cell_type": "code",
   "execution_count": null,
   "metadata": {},
   "outputs": [],
   "source": [
    "mvd=myVectorData(1,2)"
   ]
  },
  {
   "cell_type": "markdown",
   "metadata": {},
   "source": [
    "And run our new method:"
   ]
  },
  {
   "cell_type": "code",
   "execution_count": null,
   "metadata": {},
   "outputs": [],
   "source": [
    "mvd.process()"
   ]
  },
  {
   "cell_type": "markdown",
   "metadata": {},
   "source": [
    "Keep in mind that our process method works just like any other function. \n",
    "You can define an additional arguments for process method just like you would do\n",
    "with a function (have a look at our first module for a refresher). Just don't forget\n",
    "about the first argument which always should be self."
   ]
  },
  {
   "cell_type": "code",
   "execution_count": null,
   "metadata": {},
   "outputs": [],
   "source": []
  }
 ],
 "metadata": {
  "kernelspec": {
   "display_name": "Python 3",
   "language": "python",
   "name": "python3"
  },
  "language_info": {
   "codemirror_mode": {
    "name": "ipython",
    "version": 3
   },
   "file_extension": ".py",
   "mimetype": "text/x-python",
   "name": "python",
   "nbconvert_exporter": "python",
   "pygments_lexer": "ipython3",
   "version": "3.6.5"
  }
 },
 "nbformat": 4,
 "nbformat_minor": 2
}
