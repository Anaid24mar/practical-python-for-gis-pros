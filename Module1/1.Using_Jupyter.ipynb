{
 "cells": [
  {
   "cell_type": "markdown",
   "metadata": {},
   "source": [
    "** The two main types of cells **\n",
    "\n",
    "- Text cell (this is a text cell)\n",
    "- Code cell (you will see a code cell down below, it starts with In []:)\n",
    "\n",
    "\n",
    "** Three ways to run a cell ***\n",
    "1. Run all cells - Cell->Run All\n",
    "2. Click on a cell - hit \"Run\" from the toolbar above.\n",
    "3. Click on a cell - hit CTRL+ENTER.\n",
    "\n",
    "** After you run a cell **\n",
    "- Text cell will run into a formated text\n",
    "- Code cell will have an Out[]: section with results of a code from In[]:\n",
    "\n",
    "Try to run this cell and the cell below."
   ]
  },
  {
   "cell_type": "code",
   "execution_count": null,
   "metadata": {},
   "outputs": [],
   "source": [
    "import geopandas"
   ]
  }
 ],
 "metadata": {
  "kernelspec": {
   "display_name": "Python 3",
   "language": "python",
   "name": "python3"
  },
  "language_info": {
   "codemirror_mode": {
    "name": "ipython",
    "version": 3
   },
   "file_extension": ".py",
   "mimetype": "text/x-python",
   "name": "python",
   "nbconvert_exporter": "python",
   "pygments_lexer": "ipython3",
   "version": "3.6.3"
  }
 },
 "nbformat": 4,
 "nbformat_minor": 2
}
