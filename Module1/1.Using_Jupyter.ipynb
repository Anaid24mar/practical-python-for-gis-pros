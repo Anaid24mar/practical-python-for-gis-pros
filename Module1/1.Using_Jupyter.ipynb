{
 "cells": [
  {
   "cell_type": "markdown",
   "metadata": {},
   "source": [
    "# Understanding Jupyter's cells #\n",
    "\n",
    "Code cell = line of Python code\n",
    "Text cell = line of a comment in Python comment\n",
    "\n",
    "## The two main types of cells ##\n",
    "\n",
    "- Text cell (this is a text cell)\n",
    "- Code cell (you will see a code cell down below, it starts with In []:)\n",
    "\n",
    "##  Choosing a cell ##\n",
    "\n",
    "Just click on a code or text to choose a particular cell.\n",
    "\n",
    "## Three ways to run a cell ##\n",
    "1. Run all cells - Cell->Run All\n",
    "2. Click on a cell - hit \"Run\" from the toolbar above.\n",
    "3. Click on a cell - hit CTRL+ENTER.\n",
    "\n",
    "## After you run a cell ##\n",
    "- Text cell will run into a formated text\n",
    "- Code cell will have an Out[]: section with results of a code from In[]:\n",
    "\n",
    "Try to run this cell and the cell below."
   ]
  },
  {
   "cell_type": "code",
   "execution_count": null,
   "metadata": {},
   "outputs": [],
   "source": [
    "import geopandas\n",
    "geopandas"
   ]
  },
  {
   "cell_type": "markdown",
   "metadata": {},
   "source": [
    "# Common Errors #"
   ]
  },
  {
   "cell_type": "markdown",
   "metadata": {},
   "source": [
    "SyntaxError: Your code is not quite right."
   ]
  },
  {
   "cell_type": "code",
   "execution_count": null,
   "metadata": {},
   "outputs": [],
   "source": [
    "impor geopandas"
   ]
  },
  {
   "cell_type": "markdown",
   "metadata": {},
   "source": [
    "NameError: you're using a name that don't point to anything."
   ]
  },
  {
   "cell_type": "code",
   "execution_count": null,
   "metadata": {},
   "outputs": [],
   "source": [
    "geopanda"
   ]
  }
 ],
 "metadata": {
  "kernelspec": {
   "display_name": "Python 3",
   "language": "python",
   "name": "python3"
  },
  "language_info": {
   "codemirror_mode": {
    "name": "ipython",
    "version": 3
   },
   "file_extension": ".py",
   "mimetype": "text/x-python",
   "name": "python",
   "nbconvert_exporter": "python",
   "pygments_lexer": "ipython3",
   "version": "3.6.3"
  }
 },
 "nbformat": 4,
 "nbformat_minor": 2
}
